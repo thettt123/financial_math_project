{
  "nbformat": 4,
  "nbformat_minor": 0,
  "metadata": {
    "colab": {
      "provenance": [],
      "authorship_tag": "ABX9TyOZWJvbc510rdHXraf3I18v",
      "include_colab_link": true
    },
    "kernelspec": {
      "name": "python3",
      "display_name": "Python 3"
    },
    "language_info": {
      "name": "python"
    }
  },
  "cells": [
    {
      "cell_type": "markdown",
      "metadata": {
        "id": "view-in-github",
        "colab_type": "text"
      },
      "source": [
        "<a href=\"https://colab.research.google.com/github/thettt123/financial_math_project/blob/main/%EA%B8%B0%EB%A7%90%ED%94%84%EB%A1%9C%EC%A0%9D%ED%8A%B8.ipynb\" target=\"_parent\"><img src=\"https://colab.research.google.com/assets/colab-badge.svg\" alt=\"Open In Colab\"/></a>"
      ]
    },
    {
      "cell_type": "code",
      "source": [
        "!pip install feedparser"
      ],
      "metadata": {
        "colab": {
          "base_uri": "https://localhost:8080/"
        },
        "id": "yNovuUjokWsH",
        "outputId": "07c854cb-5246-4c3a-e93c-33200b2dc987"
      },
      "execution_count": 48,
      "outputs": [
        {
          "output_type": "stream",
          "name": "stdout",
          "text": [
            "Collecting feedparser\n",
            "  Downloading feedparser-6.0.11-py3-none-any.whl.metadata (2.4 kB)\n",
            "Collecting sgmllib3k (from feedparser)\n",
            "  Downloading sgmllib3k-1.0.0.tar.gz (5.8 kB)\n",
            "  Preparing metadata (setup.py) ... \u001b[?25l\u001b[?25hdone\n",
            "Downloading feedparser-6.0.11-py3-none-any.whl (81 kB)\n",
            "\u001b[2K   \u001b[90m━━━━━━━━━━━━━━━━━━━━━━━━━━━━━━━━━━━━━━━━\u001b[0m \u001b[32m81.3/81.3 kB\u001b[0m \u001b[31m5.0 MB/s\u001b[0m eta \u001b[36m0:00:00\u001b[0m\n",
            "\u001b[?25hBuilding wheels for collected packages: sgmllib3k\n",
            "  Building wheel for sgmllib3k (setup.py) ... \u001b[?25l\u001b[?25hdone\n",
            "  Created wheel for sgmllib3k: filename=sgmllib3k-1.0.0-py3-none-any.whl size=6046 sha256=4e4238afb07f83259f96fd434929bc92b7b7adaea34ecb8fa2fbac39b832e9c6\n",
            "  Stored in directory: /root/.cache/pip/wheels/3b/25/2a/105d6a15df6914f4d15047691c6c28f9052cc1173e40285d03\n",
            "Successfully built sgmllib3k\n",
            "Installing collected packages: sgmllib3k, feedparser\n",
            "Successfully installed feedparser-6.0.11 sgmllib3k-1.0.0\n"
          ]
        }
      ]
    },
    {
      "cell_type": "code",
      "execution_count": 50,
      "metadata": {
        "colab": {
          "base_uri": "https://localhost:8080/"
        },
        "id": "Ul17mCdsKtLZ",
        "outputId": "6403fdea-84f5-460f-80b1-e6bdc69bdaef"
      },
      "outputs": [
        {
          "output_type": "stream",
          "name": "stdout",
          "text": [
            "SK하이닉스: KRX=257000, NXT=259000, 차익=2000원, 차익률=0.78%\n",
            "    - [맥쿼리] SK하이닉스 (000660.KS) - 네이버 프리미엄콘텐츠 (https://news.google.com/rss/articles/CBMif0FVX3lxTE16WV9ZNVBDMVlmVGFVXy03MUlpVVdDUDlGa18zZTJ5bFVNemFHRGtJeXhRUWZRNWlMNm1uWXR0WXFGQVBRbjdhaDJFVUpWekw0dFpTczNBM0sxVzNFUFBpRG5MRDh5R3ZELUt3SzNBbVhNNFVUX3dDX3NBdk9WeGs?oc=5)\n",
            "    - SK하이닉스 주가, 모건스탠리 보고서와 정치 논란으로 횡보 : 네이버 블로그 - NAVER (https://news.google.com/rss/articles/CBMiW0FVX3lxTFA5OU1QSFBxdTFMU1A2ZUNPYlgyYVFrdHNpZjB6RkE4Q0FSUkNVX0Rjd3RyR1psV0poTWFseXY5R0Vib3piVURlc1dSS0ExbzQ2RUFJUXlqRmZONGs?oc=5)\n",
            "    - SK하이닉스 35주 분할매도하여 수익실현!(수익 2,282,322원) : 네이버 블로그 - NAVER (https://news.google.com/rss/articles/CBMiggFBVV95cUxQYjZEQW9UeEt3SVZZakEtRFhKOGEtdVQ1RUVFdkd2ZzlpWGd1eFptWVFBMGFuZllmaWwzT2MtZDZSZWZ1ZHhFZkhpQkpJSGw1UEV5WERNUHhfdkhDcWxLUDBTOGVNM0N4NlgwNlQtamRZMkhzMUkzcnpoSU0tOG1kb3BB?oc=5)\n",
            "    - SK하이닉스 신고가 달성, 신고가 쓸 종목이 널렸는데 국장을 아직도 안 해요? [주식 뭐사지?] - 네이버 프리미엄콘텐츠 (https://news.google.com/rss/articles/CBMiiAFBVV95cUxOTFJhSmZaUlh6eGFnUDRwU1JZcktOZzhjVnNWLTM3eWpwbHNKMWhKZXJfTWNPam5kZHBQMDZpNjNsOUJuSmVycElHNGNiMDk1SlJXVnRFdGE2LW8zbTcwNGVsbWZJdEVhRkFTWVBEaXlmdGo2UngyeTF5VmFPbkszVlM0REVISkt2?oc=5)\n",
            "    - SK하이닉스 램이나 SSD가 가격대가 좀 있나요? : 네이버 지식iN - kin.naver.com (https://news.google.com/rss/articles/CBMijwFBVV95cUxPcm5NbUtvXzJkcTJrSVVlbi0zck5tNGZqNnlXUHlENWwxejhZeEhoTHowaXo5T3g2YUlkOE1YQ3NwUW5QRTVhZE9MRFdCeUVoaEFReTEzYk9GTHhaeURHV1o1V3ItSkgxWkpqU1NPS3o5Zmw5UXpBTHBSa3IxbjItYTAwYms0T2lhS0o4MnRxaw?oc=5)\n",
            "LG에너지솔루션: KRX=305000, NXT=303000, 차익=2000원, 차익률=0.66%\n",
            "    - \"드디어 60만원 고지\"…LG엔솔 개미들 '환호' : 네이버 블로그 - NAVER (https://news.google.com/rss/articles/CBMiW0FVX3lxTE9lX09lNmlkZEZTYlNIM2VydWJzcUlCV2xiY3pYNmt3S0s3UWhKNnVPYkFuN1hqdG9FZGVnMXhiVjgzQlc2Z1lPeTFFTlJwM0FzRFoxcGlCSFJxR0E?oc=5)\n",
            "    - LG에너지솔루션 상장 8일차 분석 - 2월 11일 시가에 따른 예측영역판단 : 네이버 블로그 - NAVER (https://news.google.com/rss/articles/CBMiWkFVX3lxTFB1dS1hNlNabWY1MU54OE1TNW1xMlFOMFBQRm4wbHlwTF82WHEyV1NqYVF4TzU0M0VaQ2JvTlNkVFJiU050RUg2UjhpRmd3OTZ3NndjRnJqV19mZw?oc=5)\n",
            "    - ‘의무보유 풀리는’ LG엔솔·크래프톤, 카카오페이처럼? [사자경제] : 네이버 블로그 - NAVER (https://news.google.com/rss/articles/CBMiX0FVX3lxTFB5cTFwNzJBNjJFTEgyRDNKenFINVBHYk1LOHE1YVBhclVtV1M2eFBOc0RrZkxOOE5YNi1xRjBOSDFHYXR5RzJqSHZBRTlsMXFsb3FIakhFT0NIZzg3RVBn?oc=5)\n",
            "    - 필에너지, 상장 이틀차에 19% 급락...원인은 'CB 전환' : 네이버 블로그 - NAVER (https://news.google.com/rss/articles/CBMiV0FVX3lxTE9DVTlaLVFTdXF3VFJDcEFrbktNT3NoX1VIdF8yT3hSeFFSckR0d1A5WndDRC1OT0VBeExWTkVOMTM3TlVzX2lEM005QjUybktnaFMtVDEtRQ?oc=5)\n",
            "    - [뉴스분석] LG에너지솔루션, 중국 체리차 뚫고 1조 계약 따낸 비결은? 전기차 배터리 교체 전략 비교해보기 - 네이버 프리미엄콘텐츠 (https://news.google.com/rss/articles/CBMif0FVX3lxTFBwTXkzVDMzeE1RU281OElNWmNTZ3dKSnd3dzI2TC1xaUFISG4zQUNCRkJ4V2dlWENSdEJhZUF5TDBKT2tNR0FLSy03UWZTazhJU2dmalVwUDZEY3pWdkhQYi0xTTJ4N1FrYzQ2REQ0UnVKVWZJRDloUkZZTEl2d00?oc=5)\n",
            "카카오: KRX=66600, NXT=66000, 차익=600원, 차익률=0.90%\n",
            "    - 네이버·카카오, 최근 주가 왜 오른 건가요? : 네이버 지식iN - kin.naver.com (https://news.google.com/rss/articles/CBMibEFVX3lxTE1zVDdTeWxGNE9iTFRoODNSRlFWeVZlUEZZVFJTX2N0dXhabzRKMm1xT3dadDdaTFN5TkszTWs1ZnI2YnZfaHQzaFM1d0pvQnJMREJYbG10SFU4R2ptQ3Zta2dmNHNDUmpzOFJRZQ?oc=5)\n",
            "    - #카카오전망 : 홍태네 주식공장 : 네이버 프리미엄 콘텐츠 - 네이버 프리미엄콘텐츠 (https://news.google.com/rss/articles/CBMivAFBVV95cUxNLUhJSkExXzZsR0VJZTR6VnZhalVvOXpXcWNIcWl4c3k2OG1PYUM2am9fX24tTFdsN293ekxnQWlrU0VTNFFzMU1SdUZvZl9LeEFQdnEzeFVRUl9hMGQ2TkpMQU5CMHNVSmF6RTJGOGFobzdybU1KTVFzOXhHM2ZTMGJ0ZElpUDlWT0hRWUVRTkJROTdScUN6N3doc0tXcHRuc0IxMnluZ3ZxQkNVNkVwNzB4bDJval9kTEN5Rw?oc=5)\n",
            "    - [JP모건] 카카오 (035720.KS) - 네이버 프리미엄콘텐츠 (https://news.google.com/rss/articles/CBMif0FVX3lxTE9uX1dPdThxaTZveFlEbHNkM0Y2VGVMQncxUW9Eb1pOclVqUVNhTXBZZUN4UWEzVGpEMmlmalctYTBhaWZUVEkxYTd5aURFRE5yU3FISVcxTWJDaEF5MzFOWERiZURjSGxtUndVYmo4LXB4dlloR1M3bm1tekFtYjA?oc=5)\n",
            "    - 네이버에 이은 카카오의 주가 급등! 지금이라도 사야하는 이유 - 네이버 프리미엄콘텐츠 (https://news.google.com/rss/articles/CBMikgFBVV95cUxQcTBKOG5KYWY3OTgyUXVySm9GZzBzNF9oUnFyX2FLNEhkMGhPZ0kyanpaLUFyZ2RGcVFBWGtZQUFNUU01UmpFVG9jOEVTUktGN180dWVTelBNMGlmaklqUTMxYVVSYmZHZHlFOXdFX3dZbFgwMmo4WHMyTDBrSngzS2VYVmxKOUVMRTBENDg1dWlIdw?oc=5)\n",
            "    - #카카오페이 : 주식비서의 주도주 리서치 : 네이버 프리미엄 콘텐츠 - 네이버 프리미엄콘텐츠 (https://news.google.com/rss/articles/CBMitgFBVV95cUxQYlkwUEM0OHBEQlQ5VTkyNFVYRjdnaFFnckp2RGJvZU16b2Y0MFVreDNlR3R4MldYRWVwUm9ibE9oc3RWejhoSmlJOUVVTUk2Wlo1dU44YzBJbWZWQUh3VVpOR19PN1dJUlRnSEdxY2RXTXJPM1hublF1czNvbDBMQTl1d2R5VmVhRzNkV21RRjdKMnlPUlRPakRvd3VUVDNzSkZiX1JNZWRCbGoyYVVFWW1hMW4wQQ?oc=5)\n",
            "NAVER: KRX=269500, NXT=271500, 차익=2000원, 차익률=0.74%\n",
            "    - 보유 주식 리벨런싱 계획(매크로 경제 이벤트) 버핏2배랩 예상대로 흐르는 전쟁 상황 - 네이버 프리미엄콘텐츠 (https://news.google.com/rss/articles/CBMikgFBVV95cUxNRXFvLVBaMGQ2T0drNXFpNjlPOERhbzI2X2dtYVNvYkZmNGIzY0RPRXpzOHlMMDRPZ0NuWmNPcVBqdnRBbjNrOGRPOWZVUS1lQmdPME8wTkdHTTFOa1pSN1kyZm0wWHdFVXNEWVQ3OFlCeUhqTnoxZDJrQWF5Y1BhYWlQdVVGeFZyOUJpeXdSNW1TZw?oc=5)\n",
            "    - 테슬라 로보택시 출시 연기 요청. 일본은행, 사상 최대 속도로 긴축.(6월 19일 주식 투자 자료) - 네이버 프리미엄콘텐츠 (https://news.google.com/rss/articles/CBMiiwFBVV95cUxQNzVXVUQ3R0ZUR2k4WUhsQXNzTkZCSTVqTnA2Sl9yX2RDRDgtcTBnSm9tWEZRR09KbEV4MDlibE5oc1Jpd1A1QWF6LXVBUlc3STdvbEV4WjBseklZaWtZSzI3OVFOVzk4aVo1cXRib0J4elJDLVFZV0M5b2MyU0NKMTNoLWRTSWFUZmc4?oc=5)\n",
            "    - 구글, 순이익 1위 빅테크. 아마존은 더 이상 전자상거래 기업이 아니다. (6월 20일 주식 투자 자료) - 네이버 프리미엄콘텐츠 (https://news.google.com/rss/articles/CBMiiwFBVV95cUxOOG84Z0VrNjl4TnQ1WTdHeVhVNzRVUVkzUEFlNkVzcVkxeGlIVkozR1VwRXJFM1RYVVR4WjNrTGZSTlk3N2wxclpySmI0WC1ld3BiVVpYbWxFenk0bjN3WlZoaTlFRXNSSXVoa0thWlhXMHN3VEd3dWVuWDBKVkQwQXBEVVRjV20tXzl3?oc=5)\n",
            "    - 네이버 금융 - 네이버 금융 (https://news.google.com/rss/articles/CBMiP0FVX3lxTE43N0lwZmlHUUNWZjRxNGhQc1BRYnZDSlFjNTJFU3NDUXE1ZGdBN0pfR0twbkRNX3JUSzNiZlhjZw?oc=5)\n",
            "    - 네이버 - campaign2.naver.com (https://news.google.com/rss/articles/CBMiWEFVX3lxTE1GcGNHZG0xaXBnNGUzSzNDYnQtTk91MDBnM3BqaUtHa0hUUkVvV3dlZ0ZYQXlBQ1JYRnU5dDlXSlh1S29ia0FzNURNN2YyOXpLQmZXOVRVamw?oc=5)\n",
            "SK스퀘어: KRX=155500, NXT=156900, 차익=1400원, 차익률=0.90%\n",
            "    - SK스퀘어 [기업개요] “7가지 전략으로 AI·반도체 정책 수혜 잡는 투자 활용법” - 네이버 프리미엄콘텐츠 (https://news.google.com/rss/articles/CBMif0FVX3lxTE5EM0M1T3RnQU4tZHJ5ZUF1aG90Q2tKVmo2emFTVkhOS3JiQVhOSTRNX1owY2UxZTFVVUFoeXNCWHFXRmp5ZzlEY1VuUE1lSjU5RFhzS1Vpbk55OHB6TFpBdVhRUUIyVUN2d3FnYmxfWWhaUjZFeEhKc0U0bS1vUU0?oc=5)\n",
            "    - sk스퀘어주가전망 Q&A 태그 대표페이지 - kin.naver.com (https://news.google.com/rss/articles/CBMixgFBVV95cUxNWmd2ajRzRWdXMUNIUGtzNVpPeWZDWmpTN0FZUTR0bTdQcTJwRHo1elhPZm5XM3dHc0RDR1M2ZXFpTkpwNkxVRWVWNzhjNjdoRTZ0UVNVeno2YUV4STBTeElBUWlTdTEwWTZtTWFjdXlibjBiczNLbDJBT2RLNWozNGFlLUhUSWlLb3daVXBVOTRJVnFYMUd6RWpuNTRhWEItQnNISkxJSXcyQ0dnUHRqNjFZaFpDdWdrazZuTnNaZVBtTVZtX1E?oc=5)\n",
            "    - [모닝리포트] 2025년 6월 20일: SK하이닉스, 삼성전기, SK스퀘어, HD현대일렉트릭, 호텔신라 - 네이버 프리미엄콘텐츠 (https://news.google.com/rss/articles/CBMieEFVX3lxTE52dXo4cnhhaUh4R0g1bWRQdmxqV0RpZWNRRFJfRFBCR0xydFhzRDRJTVJuSVdKVWNFU3VoTGN5bFRhQ1EzdXRnbUxBTTVoTFpyUmJZcGNsUUxsbW81cmRQRi1vMG1zeHFzNlRsOVM0Ni1SX0JYdkxLWA?oc=5)\n",
            "    - ‘토종 앱마켓 원조’ 원스토어 연내 상장…2% 부족한 포트폴리오는 숙제 : 네이버 블로그 - NAVER (https://news.google.com/rss/articles/CBMiV0FVX3lxTE1ZQkFiNUgxUHlWcTdSSlE0V2pTaS0wTVo5YmRTSDE1NkJxUEdSd18xb3ExTWx2emNEMU9jTlpTODV3d0FMSXpxR2hlNmxvZ2VBUEhOeUFKQQ?oc=5)\n",
            "    - 네이버 모바일 메인 - NAVER (https://news.google.com/rss/articles/CBMiOkFVX3lxTE94V0VaY1pSTUY3NUJ1MENZZTFLVE1XUThxN0ZJSFNEcmVSS1dWTFZ1SGVzQW1KaUd0clE?oc=5)\n",
            "KB금융: KRX=106500, NXT=107100, 차익=600원, 차익률=0.56%\n",
            "    - 현대증권 -> KB증권 합병시 : 네이버 지식iN - kin.naver.com (https://news.google.com/rss/articles/CBMivAFBVV95cUxQZnN2S2dKZnpfejUxeWtEa0g4OE1KWUJmY3NfT1A1NGt6N1RCU213REpIdzBGNUtJY2VXTHpsZ1ZwNXJDUFZoX2ljZzJKOU43M3U5ZzA4d0RRcVpzSGpkYTNNbEJKOGhxcTlTWHNkZkhJSExSZzFZNURRemJfQ09rQkpnaEliVUFLZFJFc0U4a09nWUYwSUZDSUxEVloxaENacXVfUy1fUXM5c1hValRIcExJU1FQRTIxMmRjRw?oc=5)\n",
            "    - KB금융표 ESG, '해외 투자 큰손' 잡았다 : 네이버 블로그 - NAVER (https://news.google.com/rss/articles/CBMiW0FVX3lxTE9ZZmF2bjJpa0xDd010TlZCWTJZTUpNakpZX19FZ0VKUEtwWkQ3WUFXLTljbzNRNnJOYkQ1VERTT0s5QVdMc0RUeWZXd1JPWkdobXFFNUtybklXcms?oc=5)\n",
            "    - KB금융 勞使, \"자사주 매입으로 주가 부양해야\" 한목소리 : 네이버 블로그 - NAVER (https://news.google.com/rss/articles/CBMiWEFVX3lxTFBtWk16ak1IcUNVUHBhM0J0STIydENpVzRzb05IYTJsNTRsYUdPaVNOTGJzUVFubEhnZk1NbkFKc2xQVnlNUkFVS1pEVFhVNXJwbkdTa0xfeEw?oc=5)\n",
            "    - 외국인이 가장 많이 매입한 금융주는? : 네이버 블로그 - NAVER (https://news.google.com/rss/articles/CBMiWEFVX3lxTFB1R1FmMlpHd0JLYmFtLVZjVkUxZUhldHFyRHJQTGplZDFySWRFQ0hQRk1wOTFyc0M3VEpFZmY1VnFabEpHbTY5eXppVHdic01FcEZZeFpnNjg?oc=5)\n",
            "    - KB금융, 1분기 순이익 1조2701억원…비은행 효과에 분기 ‘최대 실적’ 경신 : 네이버 블로그 - NAVER (https://news.google.com/rss/articles/CBMiV0FVX3lxTE5sdmhYeUhUX21hX2xEQmhnX2o3OFJ1X2s1T0xpaUFwMnJ0NC1jbW9EMksxckIwSXdFbnRUSnBTVDduTUl1cWUzU1pSeG9veVI2NGhjLXJ4VQ?oc=5)\n",
            "카카오뱅크: KRX=32050, NXT=31000, 차익=1050원, 차익률=3.28%\n",
            "    - #카카오뱅크 : AI주식상승확률분석 : 네이버 프리미엄 콘텐츠 - 네이버 프리미엄콘텐츠 (https://news.google.com/rss/articles/CBMisAFBVV95cUxPZHh1aThxQldPM3VPV3RJWnVRY2xzalhFaU41elp0UUR2S2RvOXBLMExRTlRGZ3dOOWd1QzN2ZGxJNGhTQmR5N0xNX1IyWEc1Ti16SkUyU3Q3Q29aVnBUNFh5WklTMTVHTUtkMnh5eGpzY0I4RHZwVExWYWpXcVdlODg5ajYzMWRJRkhaaHE4V0UyX3BmcTM2VlZtZFg0bC02UTdPM3hIdVpyMW8zYVZnYg?oc=5)\n",
            "    - 카카오뱅크, 삼성증권 계좌 개설 서비스 오픈 : 네이버 블로그 - NAVER (https://news.google.com/rss/articles/CBMiW0FVX3lxTE5RVWJqelVlM1NfblhkTFpuZjVSY2s1cjV2TS1MRGRkUU92c000eGhKMlVxVV9EMDI0cjZjT3QyZUY0ZXhNay1MWDVRRElpbUFieXEzZVZ1eWkyT3M?oc=5)\n",
            "    - 주식관련 카카오뱅크 주담통화 안받네요.. : 네이버 지식iN - kin.naver.com (https://news.google.com/rss/articles/CBMixwFBVV95cUxOSWxFWG5DTEtPbW5TVEU3Z0ZEaTluTUx3YkpUS3JyemlvWDdTUXFZcm5SWFBrc0tqRjN5U2JWZlNDMjdHLXV2SWs0SmNOOU01SE05WXlMalM2LU1tNlBZeFZBWFh1Z1ZzRDBVSzNhalZFQ2NDOXk2Z2RyRzFrNkJmYTVwaVMtRFRPbl9JM3ExWVFYWDNIQ011TXdyRjJxYW9NcUh6RHIyNXkzUVhRSkZjYzM3Ny0zVmxZWklDUVJIZmk3MFc0UjQw?oc=5)\n",
            "    - 출금가능 Q&A 태그 대표페이지 - kin.naver.com (https://news.google.com/rss/articles/CBMiigFBVV95cUxNdzdFZUtGV1Z0RktPeUllejAtbWVETzhQVGZLTjdGZkRUbl9GSXVMZXotakNJZlZXaXdLNHMxTTZhTENJMExDSHRQZjVHYU9VSG1aWTBQZmtmZXF4V0U0amQ0Ym5jclpGaFhfSXlERGg5WUUybVh0VGFsaDh3eUE4N3hpd3dXSG52RVE?oc=5)\n",
            "    - 카뱅에 웃고 네이버에 울고…예스24의 아찔한 롤러코스터 : 네이버 블로그 - NAVER (https://news.google.com/rss/articles/CBMiV0FVX3lxTE9jTzdRZFFXckJUTS1xVkdoVFRrSHhLLTcxSEZJcURGRWNDWFVwNUdQTEVBbWZBdW85TWJZNGhIUkE5anVBazdVaEJ4R3B4MDNON1dWMk1JWQ?oc=5)\n"
          ]
        }
      ],
      "source": [
        "import requests\n",
        "from bs4 import BeautifulSoup\n",
        "import urllib.parse\n",
        "import feedparser\n",
        "\n",
        "\n",
        "# 종목\n",
        "stocks = {\n",
        "    \"SK하이닉스\": \"000660\",\n",
        "        \"삼성전자\": \"005930\",\n",
        "        \"LG에너지솔루션\": \"373220\",\n",
        "        \"현대차\": \"005380\",\n",
        "        \"카카오\": \"035720\",\n",
        "        \"NAVER\": \"035420\",\n",
        "        \"POSCO홀딩스\": \"005490\",\n",
        "        \"기아\": \"000270\",\n",
        "        \"셀트리온\": \"068270\",\n",
        "        \"삼성SDI\": \"006400\",\n",
        "        \"신한지주\": \"055550\",\n",
        "        \"삼성바이오로직스\": \"207940\",\n",
        "        \"현대모비스\": \"012330\",\n",
        "        \"SK이노베이션\": \"096770\",\n",
        "        \"삼성물산\": \"028260\",\n",
        "        \"SK스퀘어\": \"402340\",\n",
        "        \"LG화학\": \"051910\",\n",
        "        \"LG전자\": \"066570\",\n",
        "        \"KB금융\": \"105560\",\n",
        "        \"카카오뱅크\": \"323410\",\n",
        "        \"하나금융지주\": \"086790\",\n",
        "        \"삼성에스디에스\": \"018260\",\n",
        "        \"크래프톤\": \"259960\",\n",
        "        \"우리금융지주\": \"316140\",\n",
        "        \"한국전력\": \"015760\",\n",
        "        \"KT&G\": \"033780\",\n",
        "        \"SK텔레콤\": \"017670\",\n",
        "        \"엔씨소프트\": \"036570\",\n",
        "        \"고려아연\": \"010130\",\n",
        "        \"삼성전기\": \"009150\",\n",
        "        \"에코프로비엠\": \"247540\"\n",
        "}\n",
        "\n",
        "# 가격 가져오기\n",
        "def get_price_from_html(code):\n",
        "    url = f\"https://finance.naver.com/item/main.naver?code={code}\"\n",
        "    headers = {\"User-Agent\": \"Mozilla/5.0\"}\n",
        "    res = requests.get(url, headers=headers)\n",
        "    soup = BeautifulSoup(res.text, 'html.parser')\n",
        "\n",
        "    try:\n",
        "        # KRX 가격\n",
        "        krx_section = soup.select_one(\"#rate_info_krx .no_today em\")\n",
        "        krx_span = krx_section.find(\"span\", class_=\"blind\")\n",
        "        krx = int(krx_span.text.replace(',', '')) if krx_span else None\n",
        "\n",
        "        # NXT 가격\n",
        "        nxt_section = soup.select_one(\"#rate_info_nxt .no_today em span.blind\")\n",
        "        nxt = int(nxt_section.text.replace(',', '')) if nxt_section else None\n",
        "\n",
        "        return krx, nxt\n",
        "    except Exception as e:\n",
        "        print(f\"[ERROR] {code} - {e}\")\n",
        "        return None, None\n",
        "\n",
        "# 정보 가져오기\n",
        "def get_naver_news_rss(stock_name):\n",
        "    query = urllib.parse.quote(f\"{stock_name} 주식 site:naver.com\")\n",
        "    rss_url = f\"https://news.google.com/rss/search?q={query}&hl=ko&gl=KR&ceid=KR:ko\"\n",
        "    feed = feedparser.parse(rss_url)\n",
        "\n",
        "    articles = []\n",
        "    for entry in feed.entries[:5]:\n",
        "        title = entry.title\n",
        "        link = entry.link\n",
        "        articles.append((title, link))\n",
        "    return articles\n",
        "\n",
        "# 출력 테스트 (차익률 0.5% 이상만 출력)\n",
        "for name, code in stocks.items():\n",
        "    krx_price, nxt_price = get_price_from_html(code)\n",
        "    if krx_price and nxt_price:\n",
        "        spread = abs(krx_price - nxt_price)\n",
        "        percent = spread / krx_price * 100\n",
        "        if percent >= 0.5: # 차익률\n",
        "            print(f\"{name}: KRX={krx_price}, NXT={nxt_price}, 차익={spread}원, 차익률={percent:.2f}%\")\n",
        "            news = get_naver_news_rss(name)\n",
        "            for title, link in news:\n",
        "                print(f\"    - {title} ({link})\")\n",
        "    else:\n",
        "        print(f\"[오류] {name}: 가격 정보를 가져올 수 없습니다.\")\n",
        "\n"
      ]
    }
  ]
}